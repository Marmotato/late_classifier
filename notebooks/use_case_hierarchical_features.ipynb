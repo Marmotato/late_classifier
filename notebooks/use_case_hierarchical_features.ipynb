{
 "cells": [
  {
   "cell_type": "markdown",
   "metadata": {},
   "source": [
    "# Install late_classifier library\n",
    "\n",
    "Installing requirements:\n",
    "- `pip install requirements_mhps.txt`\n",
    "- `pip install requirements_turbo_fats.txt`\n",
    "- `pip install requirements.txt`\n",
    "\n",
    "Install library for development:\n",
    "- `pip install -e .`\n"
   ]
  },
  {
   "cell_type": "code",
   "execution_count": null,
   "metadata": {},
   "outputs": [],
   "source": [
    "from late_classifier.features import CustomHierarchicalExtractor\n",
    "from late_classifier.features import DetectionsPreprocessorZTF\n",
    "import pandas as pd"
   ]
  },
  {
   "cell_type": "markdown",
   "metadata": {},
   "source": [
    "# Init our magic tools"
   ]
  },
  {
   "cell_type": "code",
   "execution_count": null,
   "metadata": {},
   "outputs": [],
   "source": [
    "preprocess_ztf = DetectionsPreprocessorZTF()\n",
    "extractor = CustomHierarchicalExtractor()"
   ]
  },
  {
   "cell_type": "markdown",
   "metadata": {},
   "source": [
    "# Getting/prepare data"
   ]
  },
  {
   "cell_type": "code",
   "execution_count": null,
   "metadata": {},
   "outputs": [],
   "source": [
    "detections = pd.read_parquet(\"../data_examples/parquets/10_objects_corrected.parquet\")\n",
    "non_detections = pd.read_parquet(\"../data_examples/parquets/10_objects_non_detections.parquet\",\n",
    "                                columns=[\"objectId\", \"fid\", \"jd\", \"diffmaglim\"])\n",
    "\n",
    "non_detections[\"mjd\"] = non_detections[\"jd\"] - 2400000.5\n",
    "\n",
    "detections.reset_index(inplace=True)\n",
    "detections.set_index(\"objectId\", inplace=True)\n",
    "detections.index.name = 'oid'\n",
    "\n",
    "non_detections.set_index(\"objectId\", inplace=True)\n",
    "non_detections.index.name = 'oid'\n",
    "\n",
    "#display(detections)\n",
    "#display(non_detections)"
   ]
  },
  {
   "cell_type": "markdown",
   "metadata": {},
   "source": [
    "# Preprocess data"
   ]
  },
  {
   "cell_type": "code",
   "execution_count": null,
   "metadata": {},
   "outputs": [],
   "source": [
    "det_preprocess = preprocess_ztf.preprocess(detections)\n",
    "#display(det_preprocess)"
   ]
  },
  {
   "cell_type": "markdown",
   "metadata": {},
   "source": [
    "# Compute features"
   ]
  },
  {
   "cell_type": "code",
   "execution_count": null,
   "metadata": {},
   "outputs": [],
   "source": [
    "features_df = extractor.compute_features(\n",
    "    detections=det_preprocess,\n",
    "    non_detections=non_detections)\n",
    "display(features_df)"
   ]
  },
  {
   "cell_type": "code",
   "execution_count": null,
   "metadata": {},
   "outputs": [],
   "source": []
  }
 ],
 "metadata": {
  "kernelspec": {
   "display_name": "Python 3",
   "language": "python",
   "name": "python3"
  },
  "language_info": {
   "codemirror_mode": {
    "name": "ipython",
    "version": 3
   },
   "file_extension": ".py",
   "mimetype": "text/x-python",
   "name": "python",
   "nbconvert_exporter": "python",
   "pygments_lexer": "ipython3",
   "version": "3.7.7"
  }
 },
 "nbformat": 4,
 "nbformat_minor": 2
}
